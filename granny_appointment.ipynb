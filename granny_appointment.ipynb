{
 "cells": [
  {
   "cell_type": "code",
   "execution_count": 31,
   "id": "a6a0e492",
   "metadata": {},
   "outputs": [],
   "source": [
    "# !jupyter nbextension enable --py widgetsnbextension --sys-prefix\n",
    "# !jupyter serverextension enable voila --sys-prefix"
   ]
  },
  {
   "cell_type": "code",
   "execution_count": 32,
   "id": "c102a7d3",
   "metadata": {},
   "outputs": [],
   "source": [
    "import ipywidgets as widgets\n",
    "from IPython.display import display, clear_output"
   ]
  },
  {
   "cell_type": "code",
   "execution_count": 33,
   "id": "8c628bdc",
   "metadata": {},
   "outputs": [],
   "source": [
    "# Image Widget\n",
    "\n",
    "file = open(\"grandma.jpg\", \"rb\")\n",
    "image = file.read()\n",
    "\n",
    "image_headline = widgets.Image(\n",
    "                    value=image,\n",
    "                    format='jpg',\n",
    "                    width='300'\n",
    "                )\n",
    "\n",
    "label_headline = widgets.Label(\n",
    "                    value='Photo by CDC on Unsplash',\n",
    "                    style={'description_width': 'initial'}\n",
    "                )\n",
    "\n",
    "vbox_headline = widgets.VBox([image_headline, label_headline])"
   ]
  },
  {
   "cell_type": "code",
   "execution_count": 34,
   "id": "f99764b0",
   "metadata": {},
   "outputs": [],
   "source": [
    "# vbox_headline"
   ]
  },
  {
   "cell_type": "code",
   "execution_count": 35,
   "id": "9dcf872e",
   "metadata": {},
   "outputs": [],
   "source": [
    "# widget for grandchild\n",
    "grand = widgets.ToggleButtons(options=['grandson', 'granddaughter'])\n",
    "# grand"
   ]
  },
  {
   "cell_type": "code",
   "execution_count": 36,
   "id": "d8613525",
   "metadata": {},
   "outputs": [],
   "source": [
    "# name widget\n",
    "name = widgets.Text(placeholder='Your name here')\n",
    "# name"
   ]
  },
  {
   "cell_type": "code",
   "execution_count": 37,
   "id": "a5fb54f6",
   "metadata": {},
   "outputs": [],
   "source": [
    "# date widget\n",
    "date = widgets.DatePicker(description='Pick a date')\n",
    "# date"
   ]
  },
  {
   "cell_type": "code",
   "execution_count": 38,
   "id": "a8632607",
   "metadata": {},
   "outputs": [],
   "source": [
    "# number of friends widget\n",
    "friends = widgets.IntSlider(value=3, min=0, max=10, step=1,\n",
    "                           style={'description_width': 'initial',\n",
    "                                  'handle_color': '#16a085'})\n",
    "# friends"
   ]
  },
  {
   "cell_type": "code",
   "execution_count": 58,
   "id": "c66ee3e1",
   "metadata": {},
   "outputs": [],
   "source": [
    "# Function to handle the messaging\n",
    "\n",
    "button_send = widgets.Button(description='Send to grandma',\n",
    "                             tooltip='Send',\n",
    "                             style={'description_width': 'initial'})\n",
    "\n",
    "output = widgets.Output()\n",
    "\n",
    "def on_button_click(event):\n",
    "    with output: \n",
    "        clear_output()\n",
    "        print(\"Sent message: \")\n",
    "        print(f\"\"\"\n",
    "        Dear Nnedi, this is your favourite {grand.value}, {name.value}.\n",
    "        I would like to come over for dinner on {date.value} if it's fine with you.\n",
    "        If you don't mind, I'll also bring along {friends.value} hungry souls to taste your delicious food!\n",
    "        Love, {name.value}.\"\"\")\n",
    "\n",
    "button_send.on_click(on_button_click)\n",
    "\n",
    "vbox_result = widgets.VBox([button_send, output])"
   ]
  },
  {
   "cell_type": "code",
   "execution_count": 40,
   "id": "27112fb6",
   "metadata": {},
   "outputs": [],
   "source": [
    "# vbox_result"
   ]
  },
  {
   "cell_type": "code",
   "execution_count": 54,
   "id": "91387078",
   "metadata": {},
   "outputs": [],
   "source": [
    "# stacked right hand side\n",
    "\n",
    "text_0 = widgets.HTML(value=\"<h1>Dear Nnedi!</h1>\")\n",
    "text_1 = widgets.HTML(value=\"<h3>This is your favourite</h3>\")\n",
    "text_2= widgets.HTML(value=\"<h3>I would love to come over on </h3>\")\n",
    "text_3= widgets.HTML(value=\"<h3>for dinner, if that's okay for you!</h3>\")\n",
    "text_4= widgets.HTML(value=\"<h3>Also, if you don't mind, I'll bring along </h3>\")\n",
    "text_5= widgets.HTML(value=\"<h3>hungry souls for dinner, if that's okay for you! Love,</h3>\")\n",
    "\n",
    "vbox_text = widgets.VBox([text_0, text_1, grand, name, text_2, date, text_3, text_4, friends, text_5, vbox_result])"
   ]
  },
  {
   "cell_type": "code",
   "execution_count": 55,
   "id": "bed96ea0",
   "metadata": {},
   "outputs": [
    {
     "data": {
      "application/vnd.jupyter.widget-view+json": {
       "model_id": "8fbd454f2d0442bca577a8ea81882040",
       "version_major": 2,
       "version_minor": 0
      },
      "text/plain": [
       "HBox(children=(VBox(children=(Image(value=b'\\xff\\xd8\\xff\\xe0\\x00\\x10JFIF\\x00\\x01\\x01\\x01\\x00H\\x00H\\x00\\x00\\xff…"
      ]
     },
     "metadata": {},
     "output_type": "display_data"
    }
   ],
   "source": [
    "page = widgets.HBox([vbox_headline, vbox_text])\n",
    "display(page)"
   ]
  },
  {
   "cell_type": "code",
   "execution_count": null,
   "id": "6ec3f931",
   "metadata": {},
   "outputs": [],
   "source": []
  }
 ],
 "metadata": {
  "kernelspec": {
   "display_name": "Python 3 (ipykernel)",
   "language": "python",
   "name": "python3"
  },
  "language_info": {
   "codemirror_mode": {
    "name": "ipython",
    "version": 3
   },
   "file_extension": ".py",
   "mimetype": "text/x-python",
   "name": "python",
   "nbconvert_exporter": "python",
   "pygments_lexer": "ipython3",
   "version": "3.9.7"
  }
 },
 "nbformat": 4,
 "nbformat_minor": 5
}
